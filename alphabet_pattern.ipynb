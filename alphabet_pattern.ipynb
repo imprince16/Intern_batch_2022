{
 "cells": [
  {
   "cell_type": "code",
   "execution_count": 3,
   "id": "9d938f93",
   "metadata": {},
   "outputs": [
    {
     "name": "stdout",
     "output_type": "stream",
     "text": [
      "*\n",
      "**\n",
      "***\n",
      "****\n",
      "*****\n",
      "******\n",
      "*******\n"
     ]
    }
   ],
   "source": [
    "for i in range(1,8):\n",
    "    print(i*'*')"
   ]
  },
  {
   "cell_type": "code",
   "execution_count": 5,
   "id": "806310bc",
   "metadata": {},
   "outputs": [
    {
     "name": "stdout",
     "output_type": "stream",
     "text": [
      "*******\n",
      "******\n",
      "*****\n",
      "****\n",
      "***\n",
      "**\n",
      "*\n"
     ]
    }
   ],
   "source": [
    "for  i in range(7,0,-1):\n",
    "    print(i*'*')"
   ]
  },
  {
   "cell_type": "code",
   "execution_count": 12,
   "id": "b58ea456",
   "metadata": {},
   "outputs": [
    {
     "name": "stdout",
     "output_type": "stream",
     "text": [
      "       * \n",
      "      * * \n",
      "     * * * \n",
      "    * * * * \n",
      "   * * * * * \n",
      "  * * * * * * \n",
      " * * * * * * * \n",
      "* * * * * * * * \n",
      " * * * * * * * \n",
      "  * * * * * * \n",
      "   * * * * * \n",
      "    * * * * \n",
      "     * * * \n",
      "      * * \n",
      "       * \n"
     ]
    }
   ],
   "source": [
    "for i in range(1,8):\n",
    "    print(' '*(8-i)+'* '*i)\n",
    "for i in range(8,0,-1):\n",
    "    print(' '*(8-i)+'* '*i)"
   ]
  },
  {
   "cell_type": "code",
   "execution_count": 13,
   "id": "7f37bebf",
   "metadata": {},
   "outputs": [
    {
     "name": "stdout",
     "output_type": "stream",
     "text": [
      "hello 1\n",
      "hello 2\n",
      "hello 3\n",
      "hello 4\n",
      "hello 5\n",
      "hello 6\n",
      "hello 7\n",
      "hello 8\n",
      "hello 9\n",
      "hello 10\n",
      "hello 11\n",
      "hello 12\n",
      "hello 13\n",
      "hello 14\n",
      "hello 15\n",
      "hello 16\n",
      "hello 17\n",
      "hello 18\n",
      "hello 19\n",
      "hello 20\n",
      "hello 21\n",
      "hello 22\n",
      "hello 23\n",
      "hello 24\n",
      "hello 25\n",
      "hello 26\n",
      "hello 27\n",
      "hello 28\n",
      "hello 29\n",
      "hello 30\n",
      "hello 31\n",
      "hello 32\n",
      "hello 33\n",
      "hello 34\n",
      "hello 35\n",
      "hello 36\n",
      "hello 37\n",
      "hello 38\n",
      "hello 39\n",
      "hello 40\n",
      "hello 41\n",
      "hello 42\n",
      "hello 43\n",
      "hello 44\n",
      "hello 45\n"
     ]
    }
   ],
   "source": [
    "c=1\n",
    "for i in  range(10):\n",
    "    for j in range(i):\n",
    "        print('hello',c)\n",
    "        c+=1"
   ]
  },
  {
   "cell_type": "code",
   "execution_count": 15,
   "id": "b6eb2492",
   "metadata": {},
   "outputs": [
    {
     "name": "stdout",
     "output_type": "stream",
     "text": [
      "hello 1\n",
      "hello 1\n",
      "hello 1\n",
      "hello 1\n",
      "hello 1\n"
     ]
    }
   ],
   "source": [
    "for i in range(10):\n",
    "    if i%2:\n",
    "        i=1\n",
    "    else:\n",
    "        i=0\n",
    "    for j in range(i):\n",
    "        print('hello',i)"
   ]
  },
  {
   "cell_type": "code",
   "execution_count": 20,
   "id": "f337b74d",
   "metadata": {},
   "outputs": [
    {
     "name": "stdout",
     "output_type": "stream",
     "text": [
      "0 0 0 0 0 \n",
      "0 0 0 0 0 \n",
      "0 0 0 0 0 \n",
      "0 0 m 0 0 \n",
      "0 0 0 0 0 \n",
      "0 0 0 0 0 \n"
     ]
    }
   ],
   "source": [
    "for i in range(6):\n",
    "    for j in range(5):\n",
    "        if i==3 and j==2:\n",
    "            print('m',end=' ')\n",
    "        else:\n",
    "            print('0',end=' ')\n",
    "    print()"
   ]
  },
  {
   "cell_type": "code",
   "execution_count": 17,
   "id": "5d4d954f",
   "metadata": {},
   "outputs": [],
   "source": [
    "print?"
   ]
  },
  {
   "cell_type": "code",
   "execution_count": 23,
   "id": "d7bd06a3",
   "metadata": {},
   "outputs": [
    {
     "name": "stdout",
     "output_type": "stream",
     "text": [
      "* * * * \n",
      "    *   \n",
      "  *     \n",
      "* * * * \n"
     ]
    }
   ],
   "source": [
    "for i in range(4):\n",
    "    for j in range(4):\n",
    "        if i==0 or i==3 or i+j==3:\n",
    "            print('*',end=' ')\n",
    "        else:\n",
    "            print(end='  ')\n",
    "    print()"
   ]
  },
  {
   "cell_type": "code",
   "execution_count": 24,
   "id": "d144f158",
   "metadata": {},
   "outputs": [
    {
     "name": "stdout",
     "output_type": "stream",
     "text": [
      "*     * \n",
      "*     * \n",
      "* * * * \n",
      "*     * \n",
      "*     * \n"
     ]
    }
   ],
   "source": [
    "for i in range(5):\n",
    "    for j in range(4):\n",
    "        if j==0 or j==3 or i==2:\n",
    "            print('*',end=' ')\n",
    "        else:\n",
    "            print(end='  ')\n",
    "    print()"
   ]
  },
  {
   "cell_type": "code",
   "execution_count": 25,
   "id": "a7097d85",
   "metadata": {},
   "outputs": [
    {
     "name": "stdout",
     "output_type": "stream",
     "text": [
      "* * * * * \n",
      "    *   * \n",
      "    *   * \n",
      "    *   * \n",
      "* * * * * \n"
     ]
    }
   ],
   "source": [
    "for i in range(5):\n",
    "    for j in range(5):\n",
    "        if i==0 or i==4 or j==4 or j==2:\n",
    "            print('*',end=' ')\n",
    "        else:\n",
    "            print(end='  ')\n",
    "    print()"
   ]
  },
  {
   "cell_type": "code",
   "execution_count": 26,
   "id": "ef0769cd",
   "metadata": {},
   "outputs": [
    {
     "name": "stdout",
     "output_type": "stream",
     "text": [
      "* * * * * \n",
      "* * * * * \n",
      "* * * * * \n",
      "* * * * * \n",
      "* * * * * \n"
     ]
    }
   ],
   "source": [
    "c=0\n",
    "while c<5:\n",
    "    a=0\n",
    "    while a<5:\n",
    "        if i==0 or i==4 or j==4 or j==2:\n",
    "            print('*',end=' ')\n",
    "        else:\n",
    "            print(end='  ')\n",
    "        a+=1\n",
    "    print()\n",
    "\n",
    "    c+=1\n"
   ]
  },
  {
   "cell_type": "code",
   "execution_count": null,
   "id": "43482bdd",
   "metadata": {},
   "outputs": [],
   "source": []
  }
 ],
 "metadata": {
  "kernelspec": {
   "display_name": "Python 3",
   "language": "python",
   "name": "python3"
  },
  "language_info": {
   "codemirror_mode": {
    "name": "ipython",
    "version": 3
   },
   "file_extension": ".py",
   "mimetype": "text/x-python",
   "name": "python",
   "nbconvert_exporter": "python",
   "pygments_lexer": "ipython3",
   "version": "3.6.4"
  }
 },
 "nbformat": 4,
 "nbformat_minor": 5
}
