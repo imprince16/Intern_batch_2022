{
 "cells": [
  {
   "cell_type": "code",
   "execution_count": 1,
   "id": "ae388ffc",
   "metadata": {},
   "outputs": [
    {
     "data": {
      "text/plain": [
       "'C:\\\\Users\\\\rmani'"
      ]
     },
     "execution_count": 1,
     "metadata": {},
     "output_type": "execute_result"
    }
   ],
   "source": [
    "pwd"
   ]
  },
  {
   "cell_type": "code",
   "execution_count": 3,
   "id": "bce3c515",
   "metadata": {},
   "outputs": [],
   "source": [
    "file=open('C:\\\\Users\\\\rmani\\\\Desktop\\\\tarun.txt','w')"
   ]
  },
  {
   "cell_type": "code",
   "execution_count": 4,
   "id": "334e038c",
   "metadata": {},
   "outputs": [
    {
     "data": {
      "text/plain": [
       "<_io.TextIOWrapper name='C:\\\\Users\\\\rmani\\\\Desktop\\\\tarun.txt' mode='w' encoding='cp1252'>"
      ]
     },
     "execution_count": 4,
     "metadata": {},
     "output_type": "execute_result"
    }
   ],
   "source": [
    "file"
   ]
  },
  {
   "cell_type": "code",
   "execution_count": 5,
   "id": "79af2bfe",
   "metadata": {},
   "outputs": [
    {
     "data": {
      "text/plain": [
       "25"
      ]
     },
     "execution_count": 5,
     "metadata": {},
     "output_type": "execute_result"
    }
   ],
   "source": [
    "file.write('hello tarun  how are you?')"
   ]
  },
  {
   "cell_type": "code",
   "execution_count": 6,
   "id": "1f4045da",
   "metadata": {},
   "outputs": [],
   "source": [
    "file.close()"
   ]
  },
  {
   "cell_type": "code",
   "execution_count": 7,
   "id": "cb83b73a",
   "metadata": {},
   "outputs": [],
   "source": [
    "f1=open('C:\\\\Users\\\\rmani\\\\Desktop\\\\hardik.csv','w')"
   ]
  },
  {
   "cell_type": "code",
   "execution_count": 8,
   "id": "bb3920b5",
   "metadata": {},
   "outputs": [
    {
     "data": {
      "text/plain": [
       "93"
      ]
     },
     "execution_count": 8,
     "metadata": {},
     "output_type": "execute_result"
    }
   ],
   "source": [
    "f1.write('roll,name,email,phone\\n101,mann,mann@gmail.com,9166319212\\n102,tarun,tarun@gmail.com,6786787866')"
   ]
  },
  {
   "cell_type": "code",
   "execution_count": 9,
   "id": "f71ebfa7",
   "metadata": {},
   "outputs": [],
   "source": [
    "f1.close()"
   ]
  },
  {
   "cell_type": "code",
   "execution_count": 10,
   "id": "e29a41b2",
   "metadata": {},
   "outputs": [],
   "source": [
    "f1=open('C:\\\\Users\\\\rmani\\\\Desktop\\\\demo.html','w')\n",
    "f1.write('<h1 style=\"color:red;text-align:center\">hello python</h1>')\n",
    "f1.close()"
   ]
  },
  {
   "cell_type": "code",
   "execution_count": 16,
   "id": "4358b3c5",
   "metadata": {},
   "outputs": [],
   "source": [
    "f2=open('C:\\\\Users\\\\rmani\\\\Desktop\\\\testing.csv')"
   ]
  },
  {
   "cell_type": "code",
   "execution_count": 17,
   "id": "c073f1bd",
   "metadata": {},
   "outputs": [],
   "source": [
    "open?"
   ]
  },
  {
   "cell_type": "code",
   "execution_count": 18,
   "id": "207ae532",
   "metadata": {},
   "outputs": [
    {
     "data": {
      "text/plain": [
       "<_io.TextIOWrapper name='C:\\\\Users\\\\rmani\\\\Desktop\\\\testing.csv' mode='r' encoding='cp1252'>"
      ]
     },
     "execution_count": 18,
     "metadata": {},
     "output_type": "execute_result"
    }
   ],
   "source": [
    "f2"
   ]
  },
  {
   "cell_type": "code",
   "execution_count": 14,
   "id": "181a32dc",
   "metadata": {},
   "outputs": [],
   "source": [
    "d=f2.read()"
   ]
  },
  {
   "cell_type": "code",
   "execution_count": 15,
   "id": "eb7ae1d2",
   "metadata": {},
   "outputs": [
    {
     "name": "stdout",
     "output_type": "stream",
     "text": [
      "roll,name,email\n",
      "101,manish,rmanish@gmail.com\n",
      "102,dhrumil,dhr@gmail.com\n"
     ]
    }
   ],
   "source": [
    "print(d)"
   ]
  },
  {
   "cell_type": "code",
   "execution_count": 19,
   "id": "f8bc7838",
   "metadata": {},
   "outputs": [
    {
     "data": {
      "text/plain": [
       "'roll,name,email\\n'"
      ]
     },
     "execution_count": 19,
     "metadata": {},
     "output_type": "execute_result"
    }
   ],
   "source": [
    "f2.readline()"
   ]
  },
  {
   "cell_type": "code",
   "execution_count": 36,
   "id": "72e8921e",
   "metadata": {},
   "outputs": [
    {
     "data": {
      "text/plain": [
       "'oll'"
      ]
     },
     "execution_count": 36,
     "metadata": {},
     "output_type": "execute_result"
    }
   ],
   "source": [
    "f2.readline()[:3]"
   ]
  },
  {
   "cell_type": "code",
   "execution_count": 35,
   "id": "1885a774",
   "metadata": {},
   "outputs": [],
   "source": [
    "f2.seek?"
   ]
  },
  {
   "cell_type": "code",
   "execution_count": 38,
   "id": "4dc9c749",
   "metadata": {},
   "outputs": [
    {
     "data": {
      "text/plain": [
       "'101'"
      ]
     },
     "execution_count": 38,
     "metadata": {},
     "output_type": "execute_result"
    }
   ],
   "source": [
    "d.split()[1][:3]"
   ]
  },
  {
   "cell_type": "code",
   "execution_count": 39,
   "id": "91bbfe8c",
   "metadata": {},
   "outputs": [],
   "source": [
    "f2=open('C:\\\\Users\\\\rmani\\\\Desktop\\\\tarun.txt','a')"
   ]
  },
  {
   "cell_type": "code",
   "execution_count": 40,
   "id": "641eb0c3",
   "metadata": {},
   "outputs": [
    {
     "data": {
      "text/plain": [
       "13"
      ]
     },
     "execution_count": 40,
     "metadata": {},
     "output_type": "execute_result"
    }
   ],
   "source": [
    "f2.write('\\nhello python')"
   ]
  },
  {
   "cell_type": "code",
   "execution_count": 41,
   "id": "195c4a24",
   "metadata": {},
   "outputs": [],
   "source": [
    "f2.close()"
   ]
  },
  {
   "cell_type": "code",
   "execution_count": 42,
   "id": "aec7168f",
   "metadata": {},
   "outputs": [
    {
     "name": "stdout",
     "output_type": "stream",
     "text": [
      "Enter student detail: Roll Name sci math com\n",
      "Enter student detail: 101 mann 89 78 98\n",
      "Enter student detail: 102 shan 67 78 88\n",
      "Enter student detail: 103 jeet 88 90 92\n",
      "Enter student detail: 104 neha 76 56 77\n",
      "Enter student detail: 105 ram 99 98 97\n"
     ]
    }
   ],
   "source": [
    "f2=open('C:\\\\Users\\\\rmani\\\\Desktop\\\\student.txt','w')\n",
    "for i in range(6):\n",
    "    s=input('Enter student detail: ').split()\n",
    "    s='\\t'.join(s)\n",
    "    s=s+'\\n'\n",
    "    f2.write(s)\n",
    "f2.close()"
   ]
  },
  {
   "cell_type": "code",
   "execution_count": 43,
   "id": "b98ea718",
   "metadata": {},
   "outputs": [],
   "source": [
    "f2=open('C:\\\\Users\\\\rmani\\\\Desktop\\\\student.txt','r')"
   ]
  },
  {
   "cell_type": "code",
   "execution_count": 44,
   "id": "b2281dfb",
   "metadata": {},
   "outputs": [],
   "source": [
    "data=f2.read()"
   ]
  },
  {
   "cell_type": "code",
   "execution_count": 45,
   "id": "245352d6",
   "metadata": {},
   "outputs": [
    {
     "name": "stdout",
     "output_type": "stream",
     "text": [
      "Roll\tName\tsci\tmath\tcom\n",
      "101\tmann\t89\t78\t98\n",
      "102\tshan\t67\t78\t88\n",
      "103\tjeet\t88\t90\t92\n",
      "104\tneha\t76\t56\t77\n",
      "105\tram\t99\t98\t97\n",
      "\n"
     ]
    }
   ],
   "source": [
    "print(data)"
   ]
  },
  {
   "cell_type": "code",
   "execution_count": 46,
   "id": "f5c48c19",
   "metadata": {},
   "outputs": [
    {
     "name": "stdout",
     "output_type": "stream",
     "text": [
      "'Roll\\tName\\tsci\\tmath\\tcom\\n101\\tmann\\t89\\t78\\t98\\n102\\tshan\\t67\\t78\\t88\\n103\\tjeet\\t88\\t90\\t92\\n104\\tneha\\t76\\t56\\t77\\n105\\tram\\t99\\t98\\t97\\n'\n"
     ]
    }
   ],
   "source": [
    "print(repr(data))"
   ]
  },
  {
   "cell_type": "code",
   "execution_count": 47,
   "id": "8999a5c2",
   "metadata": {},
   "outputs": [],
   "source": [
    "res=data.split('\\n')"
   ]
  },
  {
   "cell_type": "code",
   "execution_count": 48,
   "id": "bee072c4",
   "metadata": {},
   "outputs": [
    {
     "name": "stdout",
     "output_type": "stream",
     "text": [
      "['Roll\\tName\\tsci\\tmath\\tcom', '101\\tmann\\t89\\t78\\t98', '102\\tshan\\t67\\t78\\t88', '103\\tjeet\\t88\\t90\\t92', '104\\tneha\\t76\\t56\\t77', '105\\tram\\t99\\t98\\t97', '']\n"
     ]
    }
   ],
   "source": [
    "print(repr(res))"
   ]
  },
  {
   "cell_type": "code",
   "execution_count": 49,
   "id": "1ece407a",
   "metadata": {},
   "outputs": [],
   "source": [
    "filter_data=res[1:-1]"
   ]
  },
  {
   "cell_type": "code",
   "execution_count": 51,
   "id": "7523e427",
   "metadata": {},
   "outputs": [
    {
     "name": "stdout",
     "output_type": "stream",
     "text": [
      "['101\\tmann\\t89\\t78\\t98', '102\\tshan\\t67\\t78\\t88', '103\\tjeet\\t88\\t90\\t92', '104\\tneha\\t76\\t56\\t77', '105\\tram\\t99\\t98\\t97']\n"
     ]
    }
   ],
   "source": [
    "print(repr(filter_data))"
   ]
  },
  {
   "cell_type": "code",
   "execution_count": 68,
   "id": "10cd5073",
   "metadata": {},
   "outputs": [
    {
     "name": "stdout",
     "output_type": "stream",
     "text": [
      "'101\\tmann\\t89\\t78\\t98\\t88'\n",
      "'102\\tshan\\t67\\t78\\t88\\t77'\n",
      "'103\\tjeet\\t88\\t90\\t92\\t90'\n",
      "'104\\tneha\\t76\\t56\\t77\\t69'\n",
      "'105\\tram\\t99\\t98\\t97\\t98'\n"
     ]
    }
   ],
   "source": [
    "st=[]\n",
    "for item in filter_data:\n",
    "    item=item.split('\\t')\n",
    "    percent=str(sum(map(int,item[2:]))//3)\n",
    "    item.append(percent)\n",
    "    result='\\t'.join(item)\n",
    "    st.append(result)\n",
    "    print(repr(result))"
   ]
  },
  {
   "cell_type": "code",
   "execution_count": 60,
   "id": "ee0d0c84",
   "metadata": {},
   "outputs": [],
   "source": [
    "l=['10','20','30','40']"
   ]
  },
  {
   "cell_type": "code",
   "execution_count": 61,
   "id": "6ea219ea",
   "metadata": {},
   "outputs": [
    {
     "data": {
      "text/plain": [
       "100"
      ]
     },
     "execution_count": 61,
     "metadata": {},
     "output_type": "execute_result"
    }
   ],
   "source": [
    "sum(map(int,l))"
   ]
  },
  {
   "cell_type": "code",
   "execution_count": 70,
   "id": "44232a77",
   "metadata": {},
   "outputs": [
    {
     "name": "stdout",
     "output_type": "stream",
     "text": [
      "['101\\tmann\\t89\\t78\\t98\\t88', '102\\tshan\\t67\\t78\\t88\\t77', '103\\tjeet\\t88\\t90\\t92\\t90', '104\\tneha\\t76\\t56\\t77\\t69', '105\\tram\\t99\\t98\\t97\\t98']\n"
     ]
    }
   ],
   "source": [
    "print(repr(st))"
   ]
  },
  {
   "cell_type": "code",
   "execution_count": 71,
   "id": "5d759c1e",
   "metadata": {},
   "outputs": [],
   "source": [
    "final='\\n'.join(st)"
   ]
  },
  {
   "cell_type": "code",
   "execution_count": 72,
   "id": "8f360159",
   "metadata": {},
   "outputs": [
    {
     "data": {
      "text/plain": [
       "'101\\tmann\\t89\\t78\\t98\\t88\\n102\\tshan\\t67\\t78\\t88\\t77\\n103\\tjeet\\t88\\t90\\t92\\t90\\n104\\tneha\\t76\\t56\\t77\\t69\\n105\\tram\\t99\\t98\\t97\\t98'"
      ]
     },
     "execution_count": 72,
     "metadata": {},
     "output_type": "execute_result"
    }
   ],
   "source": [
    "final"
   ]
  },
  {
   "cell_type": "code",
   "execution_count": 73,
   "id": "106f35ba",
   "metadata": {},
   "outputs": [
    {
     "name": "stdout",
     "output_type": "stream",
     "text": [
      "101\tmann\t89\t78\t98\t88\n",
      "102\tshan\t67\t78\t88\t77\n",
      "103\tjeet\t88\t90\t92\t90\n",
      "104\tneha\t76\t56\t77\t69\n",
      "105\tram\t99\t98\t97\t98\n"
     ]
    }
   ],
   "source": [
    "print(final)"
   ]
  },
  {
   "cell_type": "code",
   "execution_count": 74,
   "id": "40c13cc3",
   "metadata": {},
   "outputs": [
    {
     "data": {
      "text/plain": [
       "'Roll\\tName\\tsci\\tmath\\tcom'"
      ]
     },
     "execution_count": 74,
     "metadata": {},
     "output_type": "execute_result"
    }
   ],
   "source": [
    "res[0]"
   ]
  },
  {
   "cell_type": "code",
   "execution_count": 75,
   "id": "5c5a1e43",
   "metadata": {},
   "outputs": [],
   "source": [
    "head=res[0]+'\\tpercent\\n'"
   ]
  },
  {
   "cell_type": "code",
   "execution_count": 76,
   "id": "4b1e084e",
   "metadata": {},
   "outputs": [
    {
     "data": {
      "text/plain": [
       "'Roll\\tName\\tsci\\tmath\\tcom\\tpercent\\n'"
      ]
     },
     "execution_count": 76,
     "metadata": {},
     "output_type": "execute_result"
    }
   ],
   "source": [
    "head"
   ]
  },
  {
   "cell_type": "code",
   "execution_count": 77,
   "id": "c41fb8e8",
   "metadata": {},
   "outputs": [],
   "source": [
    "final_result=head+final"
   ]
  },
  {
   "cell_type": "code",
   "execution_count": 78,
   "id": "7a879b22",
   "metadata": {},
   "outputs": [
    {
     "name": "stdout",
     "output_type": "stream",
     "text": [
      "Roll\tName\tsci\tmath\tcom\tpercent\n",
      "101\tmann\t89\t78\t98\t88\n",
      "102\tshan\t67\t78\t88\t77\n",
      "103\tjeet\t88\t90\t92\t90\n",
      "104\tneha\t76\t56\t77\t69\n",
      "105\tram\t99\t98\t97\t98\n"
     ]
    }
   ],
   "source": [
    "print(final_result)"
   ]
  },
  {
   "cell_type": "code",
   "execution_count": null,
   "id": "3e3b450b",
   "metadata": {},
   "outputs": [],
   "source": []
  }
 ],
 "metadata": {
  "kernelspec": {
   "display_name": "Python 3",
   "language": "python",
   "name": "python3"
  },
  "language_info": {
   "codemirror_mode": {
    "name": "ipython",
    "version": 3
   },
   "file_extension": ".py",
   "mimetype": "text/x-python",
   "name": "python",
   "nbconvert_exporter": "python",
   "pygments_lexer": "ipython3",
   "version": "3.6.4"
  }
 },
 "nbformat": 4,
 "nbformat_minor": 5
}
