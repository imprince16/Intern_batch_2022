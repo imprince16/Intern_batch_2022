{
 "cells": [
  {
   "cell_type": "code",
   "execution_count": 1,
   "id": "729d1198",
   "metadata": {},
   "outputs": [
    {
     "name": "stdout",
     "output_type": "stream",
     "text": [
      "p\n",
      "y\n",
      "t\n",
      "h\n",
      "o\n",
      "n\n"
     ]
    }
   ],
   "source": [
    "for i in 'python':\n",
    "    print(i)"
   ]
  },
  {
   "cell_type": "code",
   "execution_count": 2,
   "id": "a3c3dcbd",
   "metadata": {},
   "outputs": [
    {
     "name": "stdout",
     "output_type": "stream",
     "text": [
      "hello world\n",
      "hello world\n",
      "hello world\n",
      "hello world\n",
      "hello world\n",
      "hello world\n"
     ]
    }
   ],
   "source": [
    "for i in 'python':\n",
    "    print('hello world')"
   ]
  },
  {
   "cell_type": "code",
   "execution_count": 3,
   "id": "b1c08e3a",
   "metadata": {},
   "outputs": [
    {
     "name": "stdout",
     "output_type": "stream",
     "text": [
      "jeet\n",
      "manish\n",
      "neha\n",
      "shan\n",
      "b\n"
     ]
    }
   ],
   "source": [
    "for i in ['jeet','manish','neha','shan','b']:\n",
    "    print(i)"
   ]
  },
  {
   "cell_type": "code",
   "execution_count": 7,
   "id": "72e1f97a",
   "metadata": {},
   "outputs": [],
   "source": [
    "l=['MaNish','neHa',14,'jEEt','shAn']\n"
   ]
  },
  {
   "cell_type": "code",
   "execution_count": 22,
   "id": "ac7aabc8",
   "metadata": {},
   "outputs": [
    {
     "name": "stdout",
     "output_type": "stream",
     "text": [
      "MANISH\n",
      "NEHA\n",
      "14\n",
      "JEET\n",
      "SHAN\n"
     ]
    }
   ],
   "source": [
    "for i in  l:\n",
    "    if str(i).isalpha():\n",
    "        print(i.upper())\n",
    "    else:\n",
    "        print(i)"
   ]
  },
  {
   "cell_type": "code",
   "execution_count": 12,
   "id": "37fdc939",
   "metadata": {},
   "outputs": [],
   "source": [
    "r=type(14)"
   ]
  },
  {
   "cell_type": "code",
   "execution_count": 15,
   "id": "3ea85a91",
   "metadata": {},
   "outputs": [
    {
     "data": {
      "text/plain": [
       "\"<class 'int'>\""
      ]
     },
     "execution_count": 15,
     "metadata": {},
     "output_type": "execute_result"
    }
   ],
   "source": [
    "str(r)"
   ]
  },
  {
   "cell_type": "code",
   "execution_count": 18,
   "id": "c47201ed",
   "metadata": {},
   "outputs": [
    {
     "name": "stdout",
     "output_type": "stream",
     "text": [
      "<class 'int'>\n"
     ]
    }
   ],
   "source": [
    "print(type(25))"
   ]
  },
  {
   "cell_type": "code",
   "execution_count": 19,
   "id": "ca163944",
   "metadata": {},
   "outputs": [
    {
     "data": {
      "text/plain": [
       "\"<class 'int'>\""
      ]
     },
     "execution_count": 19,
     "metadata": {},
     "output_type": "execute_result"
    }
   ],
   "source": [
    "str(type(34))"
   ]
  },
  {
   "cell_type": "code",
   "execution_count": 20,
   "id": "669a5dc9",
   "metadata": {},
   "outputs": [
    {
     "data": {
      "text/plain": [
       "str"
      ]
     },
     "execution_count": 20,
     "metadata": {},
     "output_type": "execute_result"
    }
   ],
   "source": [
    "type('manish')"
   ]
  },
  {
   "cell_type": "code",
   "execution_count": 21,
   "id": "519cc6ba",
   "metadata": {},
   "outputs": [
    {
     "name": "stdout",
     "output_type": "stream",
     "text": [
      "<class 'str'>\n"
     ]
    }
   ],
   "source": [
    "print(type('manish'))"
   ]
  },
  {
   "cell_type": "code",
   "execution_count": 23,
   "id": "2308bee0",
   "metadata": {},
   "outputs": [],
   "source": [
    "l=['10','20','30','40','50']"
   ]
  },
  {
   "cell_type": "code",
   "execution_count": 31,
   "id": "f04de261",
   "metadata": {},
   "outputs": [
    {
     "name": "stdout",
     "output_type": "stream",
     "text": [
      "150\n"
     ]
    }
   ],
   "source": [
    "s=0\n",
    "for i in l:\n",
    "    s+=int(i)\n",
    "print(s)"
   ]
  },
  {
   "cell_type": "code",
   "execution_count": 32,
   "id": "c376b138",
   "metadata": {},
   "outputs": [
    {
     "name": "stdout",
     "output_type": "stream",
     "text": [
      "<class 'float'>\n"
     ]
    }
   ],
   "source": [
    "print(type(30.6))"
   ]
  },
  {
   "cell_type": "code",
   "execution_count": 35,
   "id": "df095ee3",
   "metadata": {},
   "outputs": [],
   "source": [
    "l=[10,20.5,'manish',15,30.5,'jeet','shan']"
   ]
  },
  {
   "cell_type": "code",
   "execution_count": 36,
   "id": "b8e10651",
   "metadata": {},
   "outputs": [
    {
     "name": "stdout",
     "output_type": "stream",
     "text": [
      "Int:  25\n",
      "float:  51.0\n",
      "str:  ['manish', 'jeet', 'shan']\n"
     ]
    }
   ],
   "source": [
    "r=0\n",
    "t=0\n",
    "s=[]\n",
    "for i in l:\n",
    "    if str(type(i))==\"<class 'float'>\":\n",
    "        t+=i\n",
    "    elif str(type(i))==\"<class 'int'>\":\n",
    "        r+=i\n",
    "    else:\n",
    "        s.append(i)\n",
    "print('Int: ',r)\n",
    "print('float: ',t)\n",
    "print('str: ',s )"
   ]
  },
  {
   "cell_type": "code",
   "execution_count": 37,
   "id": "585f6c88",
   "metadata": {},
   "outputs": [],
   "source": [
    "l=['a','a','b','c','b','a','d','a','b','c','d']"
   ]
  },
  {
   "cell_type": "code",
   "execution_count": 39,
   "id": "c02874b0",
   "metadata": {},
   "outputs": [
    {
     "name": "stdout",
     "output_type": "stream",
     "text": [
      "a = 4\n",
      "a = 4\n",
      "b = 3\n",
      "c = 2\n",
      "b = 3\n",
      "a = 4\n",
      "d = 2\n",
      "a = 4\n",
      "b = 3\n",
      "c = 2\n",
      "d = 2\n"
     ]
    }
   ],
   "source": [
    "for i in set(l):\n",
    "    print(f\"{i} =\",l.count(i))"
   ]
  },
  {
   "cell_type": "code",
   "execution_count": 40,
   "id": "8c735005",
   "metadata": {},
   "outputs": [],
   "source": [
    "p=10"
   ]
  },
  {
   "cell_type": "code",
   "execution_count": 42,
   "id": "2c70014f",
   "metadata": {},
   "outputs": [
    {
     "name": "stdout",
     "output_type": "stream",
     "text": [
      "here 10 is whatever\n"
     ]
    }
   ],
   "source": [
    "print(f'here {p} is whatever')"
   ]
  },
  {
   "cell_type": "code",
   "execution_count": 43,
   "id": "41464585",
   "metadata": {},
   "outputs": [],
   "source": [
    "l=[10,6,12,15,20,25,30,28,17]"
   ]
  },
  {
   "cell_type": "code",
   "execution_count": 44,
   "id": "78c115b6",
   "metadata": {},
   "outputs": [],
   "source": [
    "d={}\n",
    "for i in l:\n",
    "    d[i]=i.bit_length()"
   ]
  },
  {
   "cell_type": "code",
   "execution_count": 45,
   "id": "6729029d",
   "metadata": {},
   "outputs": [
    {
     "data": {
      "text/plain": [
       "{10: 4, 6: 3, 12: 4, 15: 4, 20: 5, 25: 5, 30: 5, 28: 5, 17: 5}"
      ]
     },
     "execution_count": 45,
     "metadata": {},
     "output_type": "execute_result"
    }
   ],
   "source": [
    "d"
   ]
  },
  {
   "cell_type": "code",
   "execution_count": null,
   "id": "7ba7aeeb",
   "metadata": {},
   "outputs": [],
   "source": []
  }
 ],
 "metadata": {
  "kernelspec": {
   "display_name": "Python 3",
   "language": "python",
   "name": "python3"
  },
  "language_info": {
   "codemirror_mode": {
    "name": "ipython",
    "version": 3
   },
   "file_extension": ".py",
   "mimetype": "text/x-python",
   "name": "python",
   "nbconvert_exporter": "python",
   "pygments_lexer": "ipython3",
   "version": "3.6.4"
  }
 },
 "nbformat": 4,
 "nbformat_minor": 5
}
