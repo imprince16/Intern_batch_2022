{
 "cells": [
  {
   "cell_type": "code",
   "execution_count": 1,
   "id": "5b58423d",
   "metadata": {},
   "outputs": [],
   "source": [
    "df=open('C:\\\\Users\\\\rmani\\\\Desktop\\\\student_result.txt')"
   ]
  },
  {
   "cell_type": "code",
   "execution_count": 2,
   "id": "b07a1dd3",
   "metadata": {},
   "outputs": [],
   "source": [
    "data=df.read()"
   ]
  },
  {
   "cell_type": "code",
   "execution_count": 3,
   "id": "08ab3308",
   "metadata": {},
   "outputs": [
    {
     "name": "stdout",
     "output_type": "stream",
     "text": [
      "Roll\tName\tsci\tmath\tcom\tpercent\n",
      "101\tmann\t89\t78\t98\t88\n",
      "102\tshan\t67\t78\t88\t77\n",
      "103\tjeet\t88\t90\t92\t90\n",
      "104\tneha\t76\t56\t77\t69\n",
      "105\tram\t99\t98\t97\t98\n"
     ]
    }
   ],
   "source": [
    "print(data\n",
    "     )"
   ]
  },
  {
   "cell_type": "code",
   "execution_count": 4,
   "id": "7316db14",
   "metadata": {},
   "outputs": [
    {
     "name": "stdout",
     "output_type": "stream",
     "text": [
      "'Roll\\tName\\tsci\\tmath\\tcom\\tpercent\\n101\\tmann\\t89\\t78\\t98\\t88\\n102\\tshan\\t67\\t78\\t88\\t77\\n103\\tjeet\\t88\\t90\\t92\\t90\\n104\\tneha\\t76\\t56\\t77\\t69\\n105\\tram\\t99\\t98\\t97\\t98'\n"
     ]
    }
   ],
   "source": [
    "print(repr(data))"
   ]
  },
  {
   "cell_type": "code",
   "execution_count": 5,
   "id": "2457e6ba",
   "metadata": {},
   "outputs": [
    {
     "data": {
      "text/plain": [
       "str"
      ]
     },
     "execution_count": 5,
     "metadata": {},
     "output_type": "execute_result"
    }
   ],
   "source": [
    "type(data)"
   ]
  },
  {
   "cell_type": "code",
   "execution_count": 6,
   "id": "4817c8a7",
   "metadata": {},
   "outputs": [],
   "source": [
    "d=data.split('\\n')"
   ]
  },
  {
   "cell_type": "code",
   "execution_count": 7,
   "id": "6ab12443",
   "metadata": {},
   "outputs": [
    {
     "name": "stdout",
     "output_type": "stream",
     "text": [
      "['Roll\\tName\\tsci\\tmath\\tcom\\tpercent', '101\\tmann\\t89\\t78\\t98\\t88', '102\\tshan\\t67\\t78\\t88\\t77', '103\\tjeet\\t88\\t90\\t92\\t90', '104\\tneha\\t76\\t56\\t77\\t69', '105\\tram\\t99\\t98\\t97\\t98']\n"
     ]
    }
   ],
   "source": [
    "print(repr(d))"
   ]
  },
  {
   "cell_type": "code",
   "execution_count": 8,
   "id": "f1b755bf",
   "metadata": {},
   "outputs": [
    {
     "data": {
      "text/plain": [
       "'Roll\\tName\\tsci\\tmath\\tcom\\tpercent'"
      ]
     },
     "execution_count": 8,
     "metadata": {},
     "output_type": "execute_result"
    }
   ],
   "source": [
    "d[0]"
   ]
  },
  {
   "cell_type": "code",
   "execution_count": 9,
   "id": "a73d6c10",
   "metadata": {},
   "outputs": [
    {
     "data": {
      "text/plain": [
       "'101\\tmann\\t89\\t78\\t98\\t88'"
      ]
     },
     "execution_count": 9,
     "metadata": {},
     "output_type": "execute_result"
    }
   ],
   "source": [
    "d[1]"
   ]
  },
  {
   "cell_type": "code",
   "execution_count": 10,
   "id": "57a9a307",
   "metadata": {},
   "outputs": [
    {
     "data": {
      "text/plain": [
       "'102\\tshan\\t67\\t78\\t88\\t77'"
      ]
     },
     "execution_count": 10,
     "metadata": {},
     "output_type": "execute_result"
    }
   ],
   "source": [
    "d[2]"
   ]
  },
  {
   "cell_type": "code",
   "execution_count": 30,
   "id": "61f308fa",
   "metadata": {},
   "outputs": [
    {
     "name": "stdout",
     "output_type": "stream",
     "text": [
      "enter your roll number: 104\n"
     ]
    }
   ],
   "source": [
    "roll=input('enter your roll number: ')\n",
    "for i in d[1:]:\n",
    "    j=i.split('\\t')\n",
    "    if roll==j[0]:\n",
    "        p=int(j[-1])\n",
    "        if p>=90:\n",
    "            t='Grade A'\n",
    "        elif p>=60:\n",
    "            t='Grade B'\n",
    "        else:\n",
    "            t='Grade C'\n",
    "        f=open(f'C:\\\\Users\\\\rmani\\\\Desktop\\\\{j[1]}_result.html','w')\n",
    "        f.write(f\"\"\"\n",
    "        \n",
    "        <html>\n",
    "        <head>\n",
    "        <title> result </title>\n",
    "        <link href=\"https://cdn.jsdelivr.net/npm/bootstrap@5.1.3/dist/css/bootstrap.min.css\" rel=\"stylesheet\" integrity=\"sha384-1BmE4kWBq78iYhFldvKuhfTAU6auU8tT94WrHftjDbrCEXSU1oBoqyl2QvZ6jIW3\" crossorigin=\"anonymous\">\n",
    "        </head>\n",
    "        <body>\n",
    "        <div class='container'>\n",
    "\n",
    "        <h1 style='text-align:center; color:green';> Agra University </h1>\n",
    "        <br>\n",
    "        <br>\n",
    "        <table class=\"table\">\n",
    "          <thead>\n",
    "            <tr>\n",
    "              <th scope=\"col\">Roll</th>\n",
    "              <th scope=\"col\">Name</th>\n",
    "              <th scope=\"col\">sci</th>\n",
    "              <th scope=\"col\">math</th>\n",
    "            <th scope=\"col\">com</th>\n",
    "            <th scope=\"col\">percent</th>\n",
    "            </tr>\n",
    "          </thead>\n",
    "          <tbody>\n",
    "            <tr>\n",
    "              <th scope=\"row\">{j[0]}</th>\n",
    "              <td>{j[1]}</td>\n",
    "              <td>{j[2]}</td>\n",
    "              <td>{j[3]}</td>\n",
    "        <td>{j[4]}</td>\n",
    "        <td>{j[5]}</td>\n",
    "            </tr>\n",
    "\n",
    "          </tbody>\n",
    "        </table>\n",
    "         <h2 style='text-align:right; color:green';> {t}</h2>\n",
    "        </div>\n",
    "\n",
    "        </body>\n",
    "        </html>\n",
    "        \"\"\")\n",
    "        f.close()\n",
    "       \n",
    "    #print(repr(j))"
   ]
  },
  {
   "cell_type": "code",
   "execution_count": null,
   "id": "5eb46b33",
   "metadata": {},
   "outputs": [],
   "source": []
  }
 ],
 "metadata": {
  "kernelspec": {
   "display_name": "Python 3",
   "language": "python",
   "name": "python3"
  },
  "language_info": {
   "codemirror_mode": {
    "name": "ipython",
    "version": 3
   },
   "file_extension": ".py",
   "mimetype": "text/x-python",
   "name": "python",
   "nbconvert_exporter": "python",
   "pygments_lexer": "ipython3",
   "version": "3.6.4"
  }
 },
 "nbformat": 4,
 "nbformat_minor": 5
}
