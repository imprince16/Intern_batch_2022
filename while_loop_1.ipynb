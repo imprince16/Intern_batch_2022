{
 "cells": [
  {
   "cell_type": "markdown",
   "id": "8600fec9",
   "metadata": {},
   "source": [
    "                Arithmatic\n",
    "                # + , - ,* , / , % , //  , **  # // (floor division) , ** (power)"
   ]
  },
  {
   "cell_type": "code",
   "execution_count": 1,
   "id": "e6268a05",
   "metadata": {},
   "outputs": [
    {
     "data": {
      "text/plain": [
       "30"
      ]
     },
     "execution_count": 1,
     "metadata": {},
     "output_type": "execute_result"
    }
   ],
   "source": [
    "10+20"
   ]
  },
  {
   "cell_type": "code",
   "execution_count": 2,
   "id": "e183d87b",
   "metadata": {},
   "outputs": [
    {
     "data": {
      "text/plain": [
       "10"
      ]
     },
     "execution_count": 2,
     "metadata": {},
     "output_type": "execute_result"
    }
   ],
   "source": [
    "30-20"
   ]
  },
  {
   "cell_type": "code",
   "execution_count": 3,
   "id": "8fa73ae9",
   "metadata": {},
   "outputs": [
    {
     "data": {
      "text/plain": [
       "30"
      ]
     },
     "execution_count": 3,
     "metadata": {},
     "output_type": "execute_result"
    }
   ],
   "source": [
    "15*2"
   ]
  },
  {
   "cell_type": "code",
   "execution_count": 4,
   "id": "50d34934",
   "metadata": {},
   "outputs": [
    {
     "data": {
      "text/plain": [
       "3.3333333333333335"
      ]
     },
     "execution_count": 4,
     "metadata": {},
     "output_type": "execute_result"
    }
   ],
   "source": [
    "10/3"
   ]
  },
  {
   "cell_type": "code",
   "execution_count": 5,
   "id": "8f801deb",
   "metadata": {},
   "outputs": [
    {
     "data": {
      "text/plain": [
       "3"
      ]
     },
     "execution_count": 5,
     "metadata": {},
     "output_type": "execute_result"
    }
   ],
   "source": [
    "10//3"
   ]
  },
  {
   "cell_type": "code",
   "execution_count": 6,
   "id": "5469ea5f",
   "metadata": {},
   "outputs": [
    {
     "data": {
      "text/plain": [
       "0"
      ]
     },
     "execution_count": 6,
     "metadata": {},
     "output_type": "execute_result"
    }
   ],
   "source": [
    "10%2"
   ]
  },
  {
   "cell_type": "code",
   "execution_count": 7,
   "id": "161f7f83",
   "metadata": {},
   "outputs": [
    {
     "data": {
      "text/plain": [
       "1"
      ]
     },
     "execution_count": 7,
     "metadata": {},
     "output_type": "execute_result"
    }
   ],
   "source": [
    "11%2"
   ]
  },
  {
   "cell_type": "code",
   "execution_count": 8,
   "id": "787c8119",
   "metadata": {},
   "outputs": [
    {
     "data": {
      "text/plain": [
       "1000"
      ]
     },
     "execution_count": 8,
     "metadata": {},
     "output_type": "execute_result"
    }
   ],
   "source": [
    "10**3"
   ]
  },
  {
   "cell_type": "code",
   "execution_count": 9,
   "id": "59a9336f",
   "metadata": {},
   "outputs": [
    {
     "data": {
      "text/plain": [
       "10000000000"
      ]
     },
     "execution_count": 9,
     "metadata": {},
     "output_type": "execute_result"
    }
   ],
   "source": [
    "10**10"
   ]
  },
  {
   "cell_type": "code",
   "execution_count": 10,
   "id": "1e796b8c",
   "metadata": {},
   "outputs": [],
   "source": [
    "# string"
   ]
  },
  {
   "cell_type": "code",
   "execution_count": 11,
   "id": "1cc13d37",
   "metadata": {},
   "outputs": [
    {
     "data": {
      "text/plain": [
       "'manishrajput'"
      ]
     },
     "execution_count": 11,
     "metadata": {},
     "output_type": "execute_result"
    }
   ],
   "source": [
    "'manish' + 'rajput'"
   ]
  },
  {
   "cell_type": "code",
   "execution_count": 12,
   "id": "0e5cd100",
   "metadata": {},
   "outputs": [
    {
     "data": {
      "text/plain": [
       "'1020'"
      ]
     },
     "execution_count": 12,
     "metadata": {},
     "output_type": "execute_result"
    }
   ],
   "source": [
    "'10' +'20'"
   ]
  },
  {
   "cell_type": "code",
   "execution_count": 13,
   "id": "6ae4ab39",
   "metadata": {},
   "outputs": [],
   "source": [
    "l=[1,2,3]\n",
    "l2=[4,5,6]"
   ]
  },
  {
   "cell_type": "code",
   "execution_count": 15,
   "id": "f9571e6e",
   "metadata": {},
   "outputs": [
    {
     "data": {
      "text/plain": [
       "[1, 2, 3, 4, 5, 6]"
      ]
     },
     "execution_count": 15,
     "metadata": {},
     "output_type": "execute_result"
    }
   ],
   "source": [
    "l+l2"
   ]
  },
  {
   "cell_type": "code",
   "execution_count": 16,
   "id": "3603e92d",
   "metadata": {},
   "outputs": [],
   "source": [
    "r=tuple(l)"
   ]
  },
  {
   "cell_type": "code",
   "execution_count": 18,
   "id": "f624a121",
   "metadata": {},
   "outputs": [],
   "source": [
    "r1=tuple(l2)"
   ]
  },
  {
   "cell_type": "code",
   "execution_count": 19,
   "id": "ba9bd661",
   "metadata": {},
   "outputs": [
    {
     "data": {
      "text/plain": [
       "(1, 2, 3)"
      ]
     },
     "execution_count": 19,
     "metadata": {},
     "output_type": "execute_result"
    }
   ],
   "source": [
    "r"
   ]
  },
  {
   "cell_type": "code",
   "execution_count": 20,
   "id": "76b6b4cd",
   "metadata": {},
   "outputs": [
    {
     "data": {
      "text/plain": [
       "(4, 5, 6)"
      ]
     },
     "execution_count": 20,
     "metadata": {},
     "output_type": "execute_result"
    }
   ],
   "source": [
    "r1"
   ]
  },
  {
   "cell_type": "code",
   "execution_count": 21,
   "id": "77a5dd72",
   "metadata": {},
   "outputs": [
    {
     "data": {
      "text/plain": [
       "(1, 2, 3, 4, 5, 6)"
      ]
     },
     "execution_count": 21,
     "metadata": {},
     "output_type": "execute_result"
    }
   ],
   "source": [
    "r+r1"
   ]
  },
  {
   "cell_type": "code",
   "execution_count": 22,
   "id": "a8012ac5",
   "metadata": {},
   "outputs": [
    {
     "ename": "TypeError",
     "evalue": "unsupported operand type(s) for +: 'set' and 'set'",
     "output_type": "error",
     "traceback": [
      "\u001b[1;31m---------------------------------------------------------------------------\u001b[0m",
      "\u001b[1;31mTypeError\u001b[0m                                 Traceback (most recent call last)",
      "\u001b[1;32m<ipython-input-22-163ff875dd0b>\u001b[0m in \u001b[0;36m<module>\u001b[1;34m\u001b[0m\n\u001b[1;32m----> 1\u001b[1;33m \u001b[1;33m{\u001b[0m\u001b[1;36m1\u001b[0m\u001b[1;33m,\u001b[0m\u001b[1;36m2\u001b[0m\u001b[1;33m,\u001b[0m\u001b[1;36m3\u001b[0m\u001b[1;33m}\u001b[0m\u001b[1;33m+\u001b[0m\u001b[1;33m{\u001b[0m\u001b[1;36m4\u001b[0m\u001b[1;33m,\u001b[0m\u001b[1;36m5\u001b[0m\u001b[1;33m,\u001b[0m\u001b[1;36m6\u001b[0m\u001b[1;33m}\u001b[0m\u001b[1;33m\u001b[0m\u001b[0m\n\u001b[0m",
      "\u001b[1;31mTypeError\u001b[0m: unsupported operand type(s) for +: 'set' and 'set'"
     ]
    }
   ],
   "source": [
    "{1,2,3}+{4,5,6}"
   ]
  },
  {
   "cell_type": "code",
   "execution_count": 23,
   "id": "23092001",
   "metadata": {},
   "outputs": [],
   "source": [
    "# sub(-)\n",
    "# numbers"
   ]
  },
  {
   "cell_type": "code",
   "execution_count": 24,
   "id": "57d61021",
   "metadata": {},
   "outputs": [
    {
     "data": {
      "text/plain": [
       "5"
      ]
     },
     "execution_count": 24,
     "metadata": {},
     "output_type": "execute_result"
    }
   ],
   "source": [
    "10-5"
   ]
  },
  {
   "cell_type": "code",
   "execution_count": 25,
   "id": "bfd28883",
   "metadata": {},
   "outputs": [
    {
     "data": {
      "text/plain": [
       "16.8"
      ]
     },
     "execution_count": 25,
     "metadata": {},
     "output_type": "execute_result"
    }
   ],
   "source": [
    "20.5-3.7"
   ]
  },
  {
   "cell_type": "code",
   "execution_count": 26,
   "id": "06f961d6",
   "metadata": {},
   "outputs": [
    {
     "ename": "TypeError",
     "evalue": "unsupported operand type(s) for -: 'str' and 'str'",
     "output_type": "error",
     "traceback": [
      "\u001b[1;31m---------------------------------------------------------------------------\u001b[0m",
      "\u001b[1;31mTypeError\u001b[0m                                 Traceback (most recent call last)",
      "\u001b[1;32m<ipython-input-26-5248a82f7bd4>\u001b[0m in \u001b[0;36m<module>\u001b[1;34m\u001b[0m\n\u001b[1;32m----> 1\u001b[1;33m \u001b[1;34m'manish'\u001b[0m\u001b[1;33m-\u001b[0m\u001b[1;34m'manish'\u001b[0m\u001b[1;33m\u001b[0m\u001b[0m\n\u001b[0m",
      "\u001b[1;31mTypeError\u001b[0m: unsupported operand type(s) for -: 'str' and 'str'"
     ]
    }
   ],
   "source": [
    "'manish'-'manish'"
   ]
  },
  {
   "cell_type": "code",
   "execution_count": 27,
   "id": "7b585cb2",
   "metadata": {},
   "outputs": [],
   "source": [
    "# mul(*)\n",
    "# numbers \n",
    "# int,str"
   ]
  },
  {
   "cell_type": "code",
   "execution_count": 28,
   "id": "0cebf788",
   "metadata": {},
   "outputs": [
    {
     "data": {
      "text/plain": [
       "'manishmanishmanishmanishmanish'"
      ]
     },
     "execution_count": 28,
     "metadata": {},
     "output_type": "execute_result"
    }
   ],
   "source": [
    "5*'manish'"
   ]
  },
  {
   "cell_type": "code",
   "execution_count": 29,
   "id": "6394f028",
   "metadata": {},
   "outputs": [],
   "source": [
    "# "
   ]
  },
  {
   "cell_type": "code",
   "execution_count": 30,
   "id": "4369f39d",
   "metadata": {},
   "outputs": [],
   "source": [
    "a=30"
   ]
  },
  {
   "cell_type": "code",
   "execution_count": 31,
   "id": "9d00f967",
   "metadata": {},
   "outputs": [],
   "source": [
    "a+=20"
   ]
  },
  {
   "cell_type": "code",
   "execution_count": 32,
   "id": "4529442e",
   "metadata": {},
   "outputs": [
    {
     "data": {
      "text/plain": [
       "50"
      ]
     },
     "execution_count": 32,
     "metadata": {},
     "output_type": "execute_result"
    }
   ],
   "source": [
    "a"
   ]
  },
  {
   "cell_type": "code",
   "execution_count": 33,
   "id": "82a1a62d",
   "metadata": {},
   "outputs": [],
   "source": [
    "a-=10"
   ]
  },
  {
   "cell_type": "code",
   "execution_count": 34,
   "id": "a3e8dfd1",
   "metadata": {},
   "outputs": [
    {
     "data": {
      "text/plain": [
       "40"
      ]
     },
     "execution_count": 34,
     "metadata": {},
     "output_type": "execute_result"
    }
   ],
   "source": [
    "a"
   ]
  },
  {
   "cell_type": "code",
   "execution_count": 35,
   "id": "c0388a61",
   "metadata": {},
   "outputs": [],
   "source": [
    "# <"
   ]
  },
  {
   "cell_type": "code",
   "execution_count": 36,
   "id": "1accee2d",
   "metadata": {},
   "outputs": [
    {
     "data": {
      "text/plain": [
       "True"
      ]
     },
     "execution_count": 36,
     "metadata": {},
     "output_type": "execute_result"
    }
   ],
   "source": [
    "10<20"
   ]
  },
  {
   "cell_type": "code",
   "execution_count": 37,
   "id": "52862e9a",
   "metadata": {},
   "outputs": [
    {
     "data": {
      "text/plain": [
       "False"
      ]
     },
     "execution_count": 37,
     "metadata": {},
     "output_type": "execute_result"
    }
   ],
   "source": [
    "10<10"
   ]
  },
  {
   "cell_type": "code",
   "execution_count": 38,
   "id": "8cfcaceb",
   "metadata": {},
   "outputs": [
    {
     "data": {
      "text/plain": [
       "True"
      ]
     },
     "execution_count": 38,
     "metadata": {},
     "output_type": "execute_result"
    }
   ],
   "source": [
    "10<=10"
   ]
  },
  {
   "cell_type": "code",
   "execution_count": 39,
   "id": "ef31068e",
   "metadata": {},
   "outputs": [
    {
     "data": {
      "text/plain": [
       "False"
      ]
     },
     "execution_count": 39,
     "metadata": {},
     "output_type": "execute_result"
    }
   ],
   "source": [
    "10>10"
   ]
  },
  {
   "cell_type": "code",
   "execution_count": 40,
   "id": "6270912e",
   "metadata": {},
   "outputs": [
    {
     "data": {
      "text/plain": [
       "True"
      ]
     },
     "execution_count": 40,
     "metadata": {},
     "output_type": "execute_result"
    }
   ],
   "source": [
    "10>8"
   ]
  },
  {
   "cell_type": "code",
   "execution_count": 41,
   "id": "d6e2f148",
   "metadata": {},
   "outputs": [
    {
     "data": {
      "text/plain": [
       "True"
      ]
     },
     "execution_count": 41,
     "metadata": {},
     "output_type": "execute_result"
    }
   ],
   "source": [
    "10>=10"
   ]
  },
  {
   "cell_type": "code",
   "execution_count": 42,
   "id": "7abb5279",
   "metadata": {},
   "outputs": [
    {
     "data": {
      "text/plain": [
       "True"
      ]
     },
     "execution_count": 42,
     "metadata": {},
     "output_type": "execute_result"
    }
   ],
   "source": [
    "10==10"
   ]
  },
  {
   "cell_type": "code",
   "execution_count": 43,
   "id": "de8141b8",
   "metadata": {},
   "outputs": [
    {
     "data": {
      "text/plain": [
       "False"
      ]
     },
     "execution_count": 43,
     "metadata": {},
     "output_type": "execute_result"
    }
   ],
   "source": [
    "10!=10"
   ]
  },
  {
   "cell_type": "code",
   "execution_count": 44,
   "id": "6ee3bd37",
   "metadata": {},
   "outputs": [
    {
     "data": {
      "text/plain": [
       "True"
      ]
     },
     "execution_count": 44,
     "metadata": {},
     "output_type": "execute_result"
    }
   ],
   "source": [
    "10!=9"
   ]
  },
  {
   "cell_type": "code",
   "execution_count": 46,
   "id": "2216fc32",
   "metadata": {},
   "outputs": [],
   "source": [
    "d='hello riya'\n",
    "# membership in , not in"
   ]
  },
  {
   "cell_type": "code",
   "execution_count": 47,
   "id": "6ab66dc5",
   "metadata": {},
   "outputs": [
    {
     "data": {
      "text/plain": [
       "True"
      ]
     },
     "execution_count": 47,
     "metadata": {},
     "output_type": "execute_result"
    }
   ],
   "source": [
    "'riya' in d"
   ]
  },
  {
   "cell_type": "code",
   "execution_count": 48,
   "id": "9851ddd1",
   "metadata": {},
   "outputs": [
    {
     "data": {
      "text/plain": [
       "False"
      ]
     },
     "execution_count": 48,
     "metadata": {},
     "output_type": "execute_result"
    }
   ],
   "source": [
    "'manish' in d"
   ]
  },
  {
   "cell_type": "code",
   "execution_count": 49,
   "id": "519735ee",
   "metadata": {},
   "outputs": [
    {
     "data": {
      "text/plain": [
       "False"
      ]
     },
     "execution_count": 49,
     "metadata": {},
     "output_type": "execute_result"
    }
   ],
   "source": [
    "'yari' in d"
   ]
  },
  {
   "cell_type": "code",
   "execution_count": 50,
   "id": "798c7aa2",
   "metadata": {},
   "outputs": [
    {
     "data": {
      "text/plain": [
       "'hello riya'"
      ]
     },
     "execution_count": 50,
     "metadata": {},
     "output_type": "execute_result"
    }
   ],
   "source": [
    "d"
   ]
  },
  {
   "cell_type": "code",
   "execution_count": 51,
   "id": "2cffc0f4",
   "metadata": {},
   "outputs": [],
   "source": [
    "l=['shan','jeet','riya']"
   ]
  },
  {
   "cell_type": "code",
   "execution_count": 52,
   "id": "c1d15428",
   "metadata": {},
   "outputs": [
    {
     "data": {
      "text/plain": [
       "True"
      ]
     },
     "execution_count": 52,
     "metadata": {},
     "output_type": "execute_result"
    }
   ],
   "source": [
    "'jeet' in l"
   ]
  },
  {
   "cell_type": "code",
   "execution_count": 54,
   "id": "c218e827",
   "metadata": {},
   "outputs": [
    {
     "data": {
      "text/plain": [
       "True"
      ]
     },
     "execution_count": 54,
     "metadata": {},
     "output_type": "execute_result"
    }
   ],
   "source": [
    "'jee' not in l"
   ]
  },
  {
   "cell_type": "code",
   "execution_count": 55,
   "id": "99c9c76a",
   "metadata": {},
   "outputs": [],
   "source": [
    "# False ----> 0 , None , False , (), [], {},''"
   ]
  },
  {
   "cell_type": "code",
   "execution_count": 56,
   "id": "8fa3867e",
   "metadata": {},
   "outputs": [
    {
     "data": {
      "text/plain": [
       "'manish'"
      ]
     },
     "execution_count": 56,
     "metadata": {},
     "output_type": "execute_result"
    }
   ],
   "source": [
    "' ' and 'manish'"
   ]
  },
  {
   "cell_type": "code",
   "execution_count": 58,
   "id": "a4c82ef8",
   "metadata": {},
   "outputs": [
    {
     "data": {
      "text/plain": [
       "100"
      ]
     },
     "execution_count": 58,
     "metadata": {},
     "output_type": "execute_result"
    }
   ],
   "source": [
    "'manish' and 'shan' and 100 "
   ]
  },
  {
   "cell_type": "code",
   "execution_count": 59,
   "id": "6e746766",
   "metadata": {},
   "outputs": [
    {
     "data": {
      "text/plain": [
       "'manish'"
      ]
     },
     "execution_count": 59,
     "metadata": {},
     "output_type": "execute_result"
    }
   ],
   "source": [
    "'manish' or None or False or 0"
   ]
  },
  {
   "cell_type": "code",
   "execution_count": 60,
   "id": "1a6d9643",
   "metadata": {},
   "outputs": [
    {
     "data": {
      "text/plain": [
       "5"
      ]
     },
     "execution_count": 60,
     "metadata": {},
     "output_type": "execute_result"
    }
   ],
   "source": [
    "0 or None or False or 5 or 0 or ()"
   ]
  },
  {
   "cell_type": "code",
   "execution_count": 61,
   "id": "4cc5cc3e",
   "metadata": {},
   "outputs": [
    {
     "data": {
      "text/plain": [
       "True"
      ]
     },
     "execution_count": 61,
     "metadata": {},
     "output_type": "execute_result"
    }
   ],
   "source": [
    "not 0"
   ]
  },
  {
   "cell_type": "code",
   "execution_count": 62,
   "id": "d0f718ab",
   "metadata": {},
   "outputs": [
    {
     "data": {
      "text/plain": [
       "True"
      ]
     },
     "execution_count": 62,
     "metadata": {},
     "output_type": "execute_result"
    }
   ],
   "source": [
    "not False"
   ]
  },
  {
   "cell_type": "code",
   "execution_count": 63,
   "id": "e15b0149",
   "metadata": {},
   "outputs": [],
   "source": [
    "a='manish'"
   ]
  },
  {
   "cell_type": "code",
   "execution_count": 64,
   "id": "a11f96f0",
   "metadata": {},
   "outputs": [],
   "source": [
    "b='manish'"
   ]
  },
  {
   "cell_type": "code",
   "execution_count": 65,
   "id": "7cc6c3fc",
   "metadata": {},
   "outputs": [
    {
     "data": {
      "text/plain": [
       "7858944"
      ]
     },
     "execution_count": 65,
     "metadata": {},
     "output_type": "execute_result"
    }
   ],
   "source": [
    "id(a)"
   ]
  },
  {
   "cell_type": "code",
   "execution_count": 66,
   "id": "6961f7ad",
   "metadata": {},
   "outputs": [
    {
     "data": {
      "text/plain": [
       "7858944"
      ]
     },
     "execution_count": 66,
     "metadata": {},
     "output_type": "execute_result"
    }
   ],
   "source": [
    "id(b)\n",
    "# identity ---> is , is not"
   ]
  },
  {
   "cell_type": "code",
   "execution_count": 67,
   "id": "85c980b0",
   "metadata": {},
   "outputs": [
    {
     "data": {
      "text/plain": [
       "True"
      ]
     },
     "execution_count": 67,
     "metadata": {},
     "output_type": "execute_result"
    }
   ],
   "source": [
    "a is b"
   ]
  },
  {
   "cell_type": "code",
   "execution_count": 68,
   "id": "e8b7ab8f",
   "metadata": {},
   "outputs": [],
   "source": [
    "a='hello python'"
   ]
  },
  {
   "cell_type": "code",
   "execution_count": 69,
   "id": "5a9b1d8e",
   "metadata": {},
   "outputs": [],
   "source": [
    "b='hello python'"
   ]
  },
  {
   "cell_type": "code",
   "execution_count": 70,
   "id": "d9f15b82",
   "metadata": {},
   "outputs": [
    {
     "data": {
      "text/plain": [
       "True"
      ]
     },
     "execution_count": 70,
     "metadata": {},
     "output_type": "execute_result"
    }
   ],
   "source": [
    "a==b"
   ]
  },
  {
   "cell_type": "code",
   "execution_count": 71,
   "id": "97a8c109",
   "metadata": {},
   "outputs": [
    {
     "data": {
      "text/plain": [
       "9437696"
      ]
     },
     "execution_count": 71,
     "metadata": {},
     "output_type": "execute_result"
    }
   ],
   "source": [
    "id(a)"
   ]
  },
  {
   "cell_type": "code",
   "execution_count": 72,
   "id": "f1323f05",
   "metadata": {},
   "outputs": [
    {
     "data": {
      "text/plain": [
       "9437816"
      ]
     },
     "execution_count": 72,
     "metadata": {},
     "output_type": "execute_result"
    }
   ],
   "source": [
    "id(b)"
   ]
  },
  {
   "cell_type": "code",
   "execution_count": 73,
   "id": "3d8d8eb6",
   "metadata": {},
   "outputs": [
    {
     "data": {
      "text/plain": [
       "False"
      ]
     },
     "execution_count": 73,
     "metadata": {},
     "output_type": "execute_result"
    }
   ],
   "source": [
    "a is b"
   ]
  },
  {
   "cell_type": "code",
   "execution_count": 74,
   "id": "92c02f24",
   "metadata": {},
   "outputs": [],
   "source": [
    "# 0 to 256"
   ]
  },
  {
   "cell_type": "code",
   "execution_count": 75,
   "id": "758e9e1a",
   "metadata": {},
   "outputs": [],
   "source": [
    "x=255\n",
    "y=255"
   ]
  },
  {
   "cell_type": "code",
   "execution_count": 77,
   "id": "affd4ed6",
   "metadata": {},
   "outputs": [
    {
     "data": {
      "text/plain": [
       "1930814480"
      ]
     },
     "execution_count": 77,
     "metadata": {},
     "output_type": "execute_result"
    }
   ],
   "source": [
    "id(x)"
   ]
  },
  {
   "cell_type": "code",
   "execution_count": 78,
   "id": "ba63e243",
   "metadata": {},
   "outputs": [
    {
     "data": {
      "text/plain": [
       "1930814480"
      ]
     },
     "execution_count": 78,
     "metadata": {},
     "output_type": "execute_result"
    }
   ],
   "source": [
    "id(y)"
   ]
  },
  {
   "cell_type": "code",
   "execution_count": 79,
   "id": "c5faab25",
   "metadata": {},
   "outputs": [
    {
     "data": {
      "text/plain": [
       "True"
      ]
     },
     "execution_count": 79,
     "metadata": {},
     "output_type": "execute_result"
    }
   ],
   "source": [
    "x is y"
   ]
  },
  {
   "cell_type": "code",
   "execution_count": 80,
   "id": "e9c440f6",
   "metadata": {},
   "outputs": [],
   "source": [
    "r=257\n",
    "s=257"
   ]
  },
  {
   "cell_type": "code",
   "execution_count": 81,
   "id": "0441dd91",
   "metadata": {},
   "outputs": [
    {
     "data": {
      "text/plain": [
       "True"
      ]
     },
     "execution_count": 81,
     "metadata": {},
     "output_type": "execute_result"
    }
   ],
   "source": [
    "r==s"
   ]
  },
  {
   "cell_type": "code",
   "execution_count": 82,
   "id": "b89f375b",
   "metadata": {},
   "outputs": [
    {
     "data": {
      "text/plain": [
       "False"
      ]
     },
     "execution_count": 82,
     "metadata": {},
     "output_type": "execute_result"
    }
   ],
   "source": [
    "r is s"
   ]
  },
  {
   "cell_type": "code",
   "execution_count": 83,
   "id": "347ce296",
   "metadata": {},
   "outputs": [
    {
     "data": {
      "text/plain": [
       "9433984"
      ]
     },
     "execution_count": 83,
     "metadata": {},
     "output_type": "execute_result"
    }
   ],
   "source": [
    "id(r)"
   ]
  },
  {
   "cell_type": "code",
   "execution_count": 84,
   "id": "89e7dc0d",
   "metadata": {},
   "outputs": [
    {
     "data": {
      "text/plain": [
       "9434208"
      ]
     },
     "execution_count": 84,
     "metadata": {},
     "output_type": "execute_result"
    }
   ],
   "source": [
    "id(s)"
   ]
  },
  {
   "cell_type": "code",
   "execution_count": 87,
   "id": "a52049fc",
   "metadata": {},
   "outputs": [
    {
     "name": "stdout",
     "output_type": "stream",
     "text": [
      "hello world 0\n",
      "hello world 1\n",
      "hello world 2\n",
      "hello world 3\n",
      "hello world 4\n",
      "hello world 5\n",
      "hello world 6\n",
      "hello world 7\n",
      "hello world 8\n",
      "hello world 9\n",
      "hello world 10\n"
     ]
    }
   ],
   "source": [
    "c=0\n",
    "while c<=10:\n",
    "    print('hello world',c)\n",
    "    c+=1"
   ]
  },
  {
   "cell_type": "code",
   "execution_count": 88,
   "id": "c268eae9",
   "metadata": {},
   "outputs": [],
   "source": [
    "# while loop\n",
    "\n",
    "# 1. initialization\n",
    "# 2. condition\n",
    "# 3. statement\n",
    "# 4. increment | decrement"
   ]
  },
  {
   "cell_type": "code",
   "execution_count": 93,
   "id": "43d23ec1",
   "metadata": {},
   "outputs": [
    {
     "name": "stdout",
     "output_type": "stream",
     "text": [
      "Enter n: 5\n",
      "1 * 5 =  5\n",
      "2 * 5 =  10\n",
      "3 * 5 =  15\n",
      "4 * 5 =  20\n",
      "5 * 5 =  25\n",
      "6 * 5 =  30\n",
      "7 * 5 =  35\n",
      "8 * 5 =  40\n",
      "9 * 5 =  45\n",
      "10 * 5 =  50\n"
     ]
    }
   ],
   "source": [
    "n=int(input('Enter n: '))\n",
    "c=1\n",
    "while c<=10:\n",
    "    print(f\"{c} * {n} = \",c*n)\n",
    "    c+=1"
   ]
  },
  {
   "cell_type": "code",
   "execution_count": null,
   "id": "7bcd84b5",
   "metadata": {},
   "outputs": [],
   "source": []
  }
 ],
 "metadata": {
  "kernelspec": {
   "display_name": "Python 3",
   "language": "python",
   "name": "python3"
  },
  "language_info": {
   "codemirror_mode": {
    "name": "ipython",
    "version": 3
   },
   "file_extension": ".py",
   "mimetype": "text/x-python",
   "name": "python",
   "nbconvert_exporter": "python",
   "pygments_lexer": "ipython3",
   "version": "3.6.4"
  }
 },
 "nbformat": 4,
 "nbformat_minor": 5
}
